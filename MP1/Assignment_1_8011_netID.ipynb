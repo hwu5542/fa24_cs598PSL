{
  "metadata": {
    "kernelspec": {
      "name": "python",
      "display_name": "Python (Pyodide)",
      "language": "python"
    },
    "language_info": {
      "codemirror_mode": {
        "name": "python",
        "version": 3
      },
      "file_extension": ".py",
      "mimetype": "text/x-python",
      "name": "python",
      "nbconvert_exporter": "python",
      "pygments_lexer": "ipython3",
      "version": "3.8"
    }
  },
  "nbformat_minor": 4,
  "nbformat": 4,
  "cells": [
    {
      "cell_type": "code",
      "source": "%%html\n<style>\ntable {float:left}\n</style>",
      "metadata": {
        "trusted": true
      },
      "outputs": [
        {
          "output_type": "display_data",
          "data": {
            "text/plain": "<IPython.core.display.HTML object>",
            "text/html": "<style>\ntable {float:left}\n</style>\n"
          },
          "metadata": {}
        }
      ],
      "execution_count": 2
    },
    {
      "cell_type": "markdown",
      "source": "<style>\ntable {float:left}\n</style>\n<br>\n<h3>Group Members:</h3>\n\n| Name | UIN |\n| :- | :----------:\n| Hong, Wu | 657118011 \n| WenChing, Li | 123456789 \n|   |",
      "metadata": {}
    },
    {
      "cell_type": "code",
      "source": "import numpy as np\nimport matplotlib.pyplot as plt\nfrom sklearn.neighbors import KNeighborsClassifier as knn\nfrom sklearn import linear_model as lm\n\nnp.random.seed(100)\n\np = 2\ns = 1      # sd for generating x       \nm1 = [1,0]\nm0 = [0,1]",
      "metadata": {
        "trusted": true
      },
      "outputs": [],
      "execution_count": 4
    }
  ]
}